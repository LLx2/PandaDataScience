{
 "cells": [
  {
   "cell_type": "markdown",
   "metadata": {},
   "source": [
    "*** Our investigation is now defined as: ***\n",
    "\n",
    "* Investigate FICO Score and Loan Amount as predictors of Interest Rate for the Lending Club sample of 2,500 loans.\n",
    "\n",
    "We use Multivariate Linear Regression to model Interest Rate variance with FICO Score and Loan Amount using:\n",
    "\n",
    "* InterestRate = a0 + a1 * FICO_Score + a2 * LoanAmount\n",
    "\n",
    "We're going to use modeling software to generate the model coefficients a0, a1 & a2 and then some error estimates that we'll only touch upon lightly at this point.\n",
    "\n"
   ]
  },
  {
   "cell_type": "code",
   "execution_count": 34,
   "metadata": {
    "collapsed": false
   },
   "outputs": [
    {
     "name": "stdout",
     "output_type": "stream",
     "text": [
      "Populating the interactive namespace from numpy and matplotlib\n"
     ]
    },
    {
     "data": {
      "text/plain": [
       "1"
      ]
     },
     "execution_count": 34,
     "metadata": {},
     "output_type": "execute_result"
    }
   ],
   "source": [
    "# From https://github.com/LLx2/LearnDataScience/blob/master/notebooks/A2.%20Linear%20Regression%20-%20Data%20Exploration%20-%20Lending%20Club.ipynb\n",
    "\n",
    "# Public library\n",
    "%pylab inline\n",
    "import pylab as pl\n",
    "import numpy as np\n",
    "from sklearn import datasets, linear_model\n",
    "import pandas as pd\n",
    "import statsmodels.api as sm\n",
    "from scipy import stats\n",
    "\n",
    "# Import data \n",
    "loansData = pd.read_csv('https://spark-public.s3.amazonaws.com/dataanalysis/loansData.csv')\n",
    "\n",
    "# Play with and look at data type snd structure of data sets\n",
    "type(loansData)\n",
    "loansData.values\n",
    "type(loansData.values)\n",
    "loansData.index\n",
    "# loansData['Interest.Rate'][ : 10]\n",
    "# loansData['Loan.Length'][ : 10]\n",
    "# loansData['FICO.Range'][ : 10]\n",
    "\n",
    "# Change IR to delete '%'\n",
    "loansData['Interest.Rate'] = loansData['Interest.Rate'].map(lambda x: str(x)[: -1])\n",
    "# loansData['Interest.Rate'][:10]\n",
    "\n",
    "# Change lona lemngth to delete 'months'\n",
    "loansData['Loan.Length'] = loansData['Loan.Length'].map( lambda x: str(x)[: -7])\n",
    "# loansData['Loan.Length'][ : 3]\n",
    "\n",
    "# Remove outliers! Those bastards, they killed Kenny...\n",
    "loansData[((loansData['Monthly.Income'] - loansData['Monthly.Income'].mean()) / loansData['Monthly.Income'].std()).abs() < 3]\n",
    "\n",
    "# Remove rows with NA's\n",
    "loansData.isnull().sum()  # Monthly.Income = 1 | Revolving.CREDIT.Balance = 2 | Inquiries.in.the.Last.6.Months = \n",
    "loansData['Monthly.Income'] = loansData['Monthly.Income'].dropna()\n",
    "loansData['Monthly.Income'].isnull().sum()  #Leaving OFF here\n"
   ]
  }
 ],
 "metadata": {
  "kernelspec": {
   "display_name": "Python 2",
   "language": "python",
   "name": "python2"
  },
  "language_info": {
   "codemirror_mode": {
    "name": "ipython",
    "version": 2
   },
   "file_extension": ".py",
   "mimetype": "text/x-python",
   "name": "python",
   "nbconvert_exporter": "python",
   "pygments_lexer": "ipython2",
   "version": "2.7.11"
  }
 },
 "nbformat": 4,
 "nbformat_minor": 0
}
